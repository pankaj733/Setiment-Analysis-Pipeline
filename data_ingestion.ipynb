{
 "cells": [
  {
   "cell_type": "code",
   "execution_count": null,
   "metadata": {},
   "outputs": [],
   "source": [
    "from datasets import load_dataset\n",
    "\n",
    "# Load the IMDB dataset\n",
    "dataset = load_dataset(\"imdb\")\n",
    "train_data = dataset['train']\n",
    "test_data = dataset['test']\n",
    "\n",
    "# Check the number of rows in the training and test sets\n",
    "len(train_data), len(test_data)"
   ]
  },
  {
   "cell_type": "code",
   "execution_count": null,
   "metadata": {},
   "outputs": [],
   "source": [
    "import sqlite3\n",
    "\n",
    "# Connect to SQLite database\n",
    "conn = sqlite3.connect('imdb_reviews.db')\n",
    "cursor = conn.cursor()\n",
    "\n",
    "# Create the table\n",
    "cursor.execute('''\n",
    "    CREATE TABLE imdb_reviews (\n",
    "        id INTEGER PRIMARY KEY,\n",
    "        review_text TEXT,\n",
    "        sentiment TEXT\n",
    "    )\n",
    "''')\n",
    "conn.commit()"
   ]
  },
  {
   "cell_type": "code",
   "execution_count": null,
   "metadata": {},
   "outputs": [],
   "source": [
    "# Prepare data for insertion\n",
    "reviews = [(i, review['text'], review['label']) for i, review in enumerate(train_data)]\n",
    "\n",
    "# Insert data into the table\n",
    "cursor.executemany('INSERT INTO imdb_reviews (id, review_text, sentiment) VALUES (?, ?, ?)', reviews)\n",
    "conn.commit()"
   ]
  },
  {
   "cell_type": "code",
   "execution_count": null,
   "metadata": {},
   "outputs": [],
   "source": [
    "import pandas as pd\n",
    "import re\n",
    "\n",
    "# Load the data into a DataFrame for cleanup\n",
    "df = pd.read_sql_query(\"SELECT * FROM imdb_reviews\", conn)\n",
    "\n",
    "# Clean the review text\n",
    "def clean_text(text):\n",
    "    text = text.lower()  # Lowercase\n",
    "    text = re.sub(r'<.*?>', '', text)  # Remove HTML tags\n",
    "    text = re.sub(r'[^\\w\\s]', '', text)  # Remove punctuation\n",
    "    return text\n",
    "\n",
    "df['cleaned_review_text'] = df['review_text'].apply(clean_text)"
   ]
  },
  {
   "cell_type": "code",
   "execution_count": null,
   "metadata": {},
   "outputs": [],
   "source": [
    "# Distribution of sentiments\n",
    "sentiment_counts = df['sentiment'].value_counts()\n",
    "\n",
    "# Average review length\n",
    "df['review_length'] = df['cleaned_review_text'].apply(len)\n",
    "avg_length_by_sentiment = df.groupby('sentiment')['review_length'].mean()\n",
    "\n",
    "sentiment_counts, avg_length_by_sentiment"
   ]
  },
  {
   "cell_type": "code",
   "execution_count": null,
   "metadata": {},
   "outputs": [],
   "source": []
  }
 ],
 "metadata": {
  "language_info": {
   "name": "python"
  }
 },
 "nbformat": 4,
 "nbformat_minor": 2
}
